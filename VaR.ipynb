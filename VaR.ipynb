{
 "cells": [
  {
   "cell_type": "code",
   "execution_count": 1,
   "id": "26299fe7-00ee-457e-b8a4-b0128418e044",
   "metadata": {},
   "outputs": [
    {
     "name": "stdin",
     "output_type": "stream",
     "text": [
      "Enter the start date (YYYY-MM-DD):  2024-06-01\n",
      "Enter the end date (YYYY-MM-DD):  2024-08-22\n",
      "Enter the Z-value as a whole number percentage (e.g., 5 for 5%):  95\n"
     ]
    },
    {
     "name": "stderr",
     "output_type": "stream",
     "text": [
      "[*********************100%***********************]  1 of 1 completed\n",
      "[*********************100%***********************]  1 of 1 completed\n",
      "[*********************100%***********************]  1 of 1 completed\n",
      "[*********************100%***********************]  1 of 1 completed\n",
      "[*********************100%***********************]  1 of 1 completed\n",
      "[*********************100%***********************]  1 of 1 completed\n"
     ]
    },
    {
     "name": "stdout",
     "output_type": "stream",
     "text": [
      "\n",
      " Var Result:\n",
      "   Number of Days  Z-value (%)  Calculated Rank  Weighted Sum at Rank   \\\n",
      "0              54           95                3                  -3.19   \n",
      "\n",
      "   Portfolio Value          VaR  \n",
      "0    222503.994751 -7097.877433  \n",
      "Data successfully saved to D:/linkedin/var.xlsx\n"
     ]
    }
   ],
   "source": [
    "import pandas as pd\n",
    "import yfinance as yf\n",
    "import xlwings as xw\n",
    "\n",
    "def fetch_data(stock, start_date, end_date):\n",
    "    data = yf.download(stock, start=start_date, end=end_date)['Adj Close']\n",
    "    return data\n",
    "def fetch_current_price(stock):\n",
    "    data = yf.download(stock, period='1d', interval='1d')['Adj Close']\n",
    "    return data.iloc[-1]\n",
    "def main():\n",
    "    portfolio_df = pd.read_excel('D:/LinkedIn/portfolio.xlsx')\n",
    "    stocks = portfolio_df['SYMBOL'].tolist()\n",
    "    quantities = portfolio_df['NUMBER'].tolist()\n",
    "    total_shares = sum(quantities)\n",
    "    weights = [quantity / total_shares for quantity in quantities]\n",
    "    start_date = input(\"Enter the start date (YYYY-MM-DD): \")\n",
    "    end_date = input(\"Enter the end date (YYYY-MM-DD): \")\n",
    "    z_value = int(input(\"Enter the Z-value as a whole number percentage (e.g., 5 for 5%): \"))\n",
    "    df = pd.DataFrame()\n",
    "    for i, stock in enumerate(stocks):\n",
    "        data = fetch_data(stock + \".NS\", start_date, end_date)\n",
    "        data = data.dropna()\n",
    "        daily_pct_change = data.pct_change() * 100\n",
    "        df[f\"{stock} Close\"] = data.values\n",
    "        df[f\"{stock} Daily % Change\"] = daily_pct_change.values\n",
    "        df[f\"{stock} Number of Shares\"] = quantities[i]\n",
    "        df[f\"{stock} Weight\"] = weights[i]\n",
    "    df.insert(0, \"Date\", data.index)\n",
    "    weighted_sum = sum(df[f\"{stock} Daily % Change\"] * weights[i] for i, stock in enumerate(stocks))\n",
    "    df['Weighted Sum'] = weighted_sum\n",
    "    df = df.round(2)\n",
    "    df = df.dropna()\n",
    "    portfolio_value = sum(fetch_current_price(stock + \".NS\") * quantities[i] for i, stock in enumerate(stocks))\n",
    "    output_file_path = 'D:/linkedin/var.xlsx'\n",
    "    wb = xw.Book()\n",
    "    sheet1 = wb.sheets['Sheet1']\n",
    "    sheet1.range(\"A1\").value = df\n",
    "    filtered_df = df[['Date'] + [col for col in df.columns if 'Daily % Change' in col] + [col for col in df.columns if 'Weight' in col] + ['Weighted Sum']]\n",
    "    sheet2 = wb.sheets.add(name='Sheet2', after=sheet1)\n",
    "    sheet2.range(\"A1\").value = filtered_df\n",
    "    daily_change_and_weighted_sum_df = df[['Date'] + [col for col in df.columns if 'Daily % Change' in col] + ['Weighted Sum']]\n",
    "    sheet3 = wb.sheets.add(name='Sheet3', after=sheet2)\n",
    "    sheet3.range(\"A1\").value = daily_change_and_weighted_sum_df\n",
    "    sorted_df = df[['Date', 'Weighted Sum']].sort_values(by='Weighted Sum').reset_index(drop=True)\n",
    "    sorted_df['Rank'] = sorted_df.reset_index().index + 1\n",
    "    sheet4 = wb.sheets.add(name='Sheet4', after=sheet3)\n",
    "    sheet4.range(\"A1\").value = sorted_df\n",
    "    n = len(sorted_df)\n",
    "    x = round(n * (1 - z_value / 100))\n",
    "    if x > 0:\n",
    "        x_weighted_sum = sorted_df.loc[x - 1, 'Weighted Sum']\n",
    "    else:\n",
    "        x_weighted_sum = None\n",
    "    sheet5 = wb.sheets.add(name='Sheet5', after=sheet4)\n",
    "    var = (x_weighted_sum * portfolio_value) / 100\n",
    "    sheet5.range(\"A1\").value = [[\"Number of Days\", \"Z-value (%)\", \"Calculated Rank\", \"Weighted Sum at Rank \", \"Portfolio Value\", \"VaR\"]]\n",
    "    sheet5.range(\"A2\").value = [[n, z_value, x, x_weighted_sum, portfolio_value, var]]\n",
    "    wb.save(output_file_path)\n",
    "    sheet5_df = pd.read_excel(output_file_path, sheet_name='Sheet5')\n",
    "    print(\"\\n Var Result:\")\n",
    "    print(sheet5_df)\n",
    "    wb.close()\n",
    "    print(f\"Data successfully saved to {output_file_path}\")\n",
    "if __name__ == \"__main__\":\n",
    "    main()\n"
   ]
  },
  {
   "cell_type": "code",
   "execution_count": null,
   "id": "95d2677c-0dde-4686-89bd-3fb6be0e45b7",
   "metadata": {},
   "outputs": [],
   "source": []
  }
 ],
 "metadata": {
  "kernelspec": {
   "display_name": "Python 3 (ipykernel)",
   "language": "python",
   "name": "python3"
  },
  "language_info": {
   "codemirror_mode": {
    "name": "ipython",
    "version": 3
   },
   "file_extension": ".py",
   "mimetype": "text/x-python",
   "name": "python",
   "nbconvert_exporter": "python",
   "pygments_lexer": "ipython3",
   "version": "3.11.7"
  }
 },
 "nbformat": 4,
 "nbformat_minor": 5
}
